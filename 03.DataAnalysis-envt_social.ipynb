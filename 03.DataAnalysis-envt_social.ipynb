{
 "cells": [
  {
   "cell_type": "markdown",
   "metadata": {},
   "source": [
    "## Identification of sustainability-focused campaigns on the kickstarter crowdfunding platform using NLP and ML boosted with swarm intelligence\n",
    "--- ------------------\n",
    "<div>\n",
    "Data Analysis: part 3\n",
    "<br>\n",
    "Submitted by: Jossin Antony<br>\n",
    "Affiliation: THU Ulm<br>\n",
    "Date: 23.06.2024\n",
    "</div>"
   ]
  },
  {
   "cell_type": "markdown",
   "metadata": {},
   "source": [
    "## Overview\n",
    "- [Introduction](#A.-Introduction)\n",
    "- [Visualizations](#B.-Visualizations)"
   ]
  },
  {
   "cell_type": "markdown",
   "metadata": {},
   "source": [
    "### A. Introduction\n",
    "--- -------------------"
   ]
  },
  {
   "cell_type": "markdown",
   "metadata": {},
   "source": [
    "We continue our analysis with the filtered dataset from part 2. We categorized the samples into categories according to social and environmental relevance. However, there is only a very low number of social and environmentally relevant startups and a successful derivation of conclusive results on success of the campaigns solely from social/environmental point of view might not be feasible."
   ]
  },
  {
   "cell_type": "code",
   "execution_count": 19,
   "metadata": {},
   "outputs": [],
   "source": [
    "import pandas as pd\n",
    "pd.set_option('display.max_colwidth', None)\n",
    "pd.set_option('display.max_columns', None)\n",
    "pd.set_option('display.max_rows', 200)\n",
    "\n",
    "import numpy as np\n",
    "\n",
    "from sklearn.model_selection import train_test_split, StratifiedKFold, GridSearchCV\n",
    "from sklearn.preprocessing import StandardScaler, OneHotEncoder, LabelEncoder\n",
    "from sklearn.compose import ColumnTransformer\n",
    "from sklearn.pipeline import Pipeline\n",
    "from sklearn.svm import SVC, LinearSVC\n",
    "from sklearn.metrics import classification_report\n",
    "from sklearn.metrics import ConfusionMatrixDisplay, accuracy_score, classification_report\n",
    "from sklearn.ensemble import RandomForestClassifier\n",
    "from sklearn.feature_selection import RFE\n",
    "from sklearn.pipeline import make_pipeline\n",
    "\n",
    "\n",
    "import xgboost as xgb\n",
    "import matplotlib.pyplot as plt\n",
    "\n",
    "import altair as alt"
   ]
  },
  {
   "cell_type": "code",
   "execution_count": 57,
   "metadata": {},
   "outputs": [],
   "source": [
    "#load the dataset\n",
    "df= pd.read_csv('./data/dataframe_categorized.csv', low_memory=False)\n",
    "df.rename(columns={'country':'country_code'},inplace=True)"
   ]
  },
  {
   "cell_type": "code",
   "execution_count": 58,
   "metadata": {},
   "outputs": [
    {
     "data": {
      "text/plain": [
       "Index(['campaign_name', 'blurb', 'main_category', 'sub_category',\n",
       "       'is_environmental', 'is_social', 'country_code', 'duration_in_months',\n",
       "       'goal_usd_category', 'is_success'],\n",
       "      dtype='object')"
      ]
     },
     "execution_count": 58,
     "metadata": {},
     "output_type": "execute_result"
    }
   ],
   "source": [
    "df.columns"
   ]
  },
  {
   "cell_type": "code",
   "execution_count": 8,
   "metadata": {},
   "outputs": [
    {
     "name": "stdout",
     "output_type": "stream",
     "text": [
      "Number of samples marked as environmentally relevant: 1047; i.e, 0.751 % of total samples\n",
      "Number of samples marked as socially relevant: 698; i.e, 0.500 % of total samples\n",
      "Number of samples marked as success: 76642; i.e, 54.943 % of total samples\n",
      "Number of environmentally successful samples: 341; i.e, 0.244 % of total samples\n",
      "Number of environmentally successful samples: 291; i.e, 0.209 % of total samples\n"
     ]
    }
   ],
   "source": [
    "shape_envt= df[df['is_environmental']=='Yes'].shape\n",
    "print(f'Number of samples marked as environmentally relevant: {shape_envt[0]}; i.e, {(shape_envt[0] *100/df.shape[0]):2.3f} % of total samples')\n",
    "\n",
    "shape_social= df[df['is_social']=='Yes'].shape\n",
    "print(f'Number of samples marked as socially relevant: {shape_social[0]}; i.e, {(shape_social[0] *100/df.shape[0]):2.3f} % of total samples')\n",
    "\n",
    "shape_success= df[df['is_success']!='fail'].shape\n",
    "print(f'Number of samples marked as success: {shape_success[0]}; i.e, {(shape_success[0] *100/df.shape[0]):2.3f} % of total samples')\n",
    "\n",
    "shape_envt_success= df[(df['is_success']!='fail') & (df['is_environmental']=='Yes')].shape\n",
    "print(f'Number of environmentally successful samples: {shape_envt_success[0]}; i.e, {(shape_envt_success[0] *100/df.shape[0]):2.3f} % of total samples')\n",
    "\n",
    "\n",
    "shape_social_success= df[(df['is_success']!='fail') & (df['is_social']=='Yes')].shape\n",
    "print(f'Number of environmentally successful samples: {shape_social_success[0]}; i.e, {(shape_social_success[0] *100/df.shape[0]):2.3f} % of total samples')\n"
   ]
  },
  {
   "cell_type": "markdown",
   "metadata": {},
   "source": [
    "Nevertheless, we extract and focus our analysis on the environmentally and socially relevant campaigns."
   ]
  },
  {
   "cell_type": "code",
   "execution_count": 9,
   "metadata": {},
   "outputs": [],
   "source": [
    "df_envt= df[df['is_environmental']=='Yes']\n",
    "df_social= df[df['is_social']=='Yes']"
   ]
  },
  {
   "cell_type": "markdown",
   "metadata": {},
   "source": [
    "### B. Visualizations\n",
    "--- -------------------\n",
    "\n",
    "Here we visualize the distribution of social and environmental campaigns with respect to various features such as various success levels achieved, funding amount targets, country of the campaign etc."
   ]
  },
  {
   "cell_type": "markdown",
   "metadata": {},
   "source": [
    "#### B.1 Success levels of campaigns\n",
    "\n",
    "The funding success levels of campaigns are plotted here. "
   ]
  },
  {
   "cell_type": "code",
   "execution_count": 10,
   "metadata": {},
   "outputs": [
    {
     "data": {
      "text/html": [
       "\n",
       "<style>\n",
       "  #altair-viz-207a2c877c1744a594ddde99f3b0718e.vega-embed {\n",
       "    width: 100%;\n",
       "    display: flex;\n",
       "  }\n",
       "\n",
       "  #altair-viz-207a2c877c1744a594ddde99f3b0718e.vega-embed details,\n",
       "  #altair-viz-207a2c877c1744a594ddde99f3b0718e.vega-embed details summary {\n",
       "    position: relative;\n",
       "  }\n",
       "</style>\n",
       "<div id=\"altair-viz-207a2c877c1744a594ddde99f3b0718e\"></div>\n",
       "<script type=\"text/javascript\">\n",
       "  var VEGA_DEBUG = (typeof VEGA_DEBUG == \"undefined\") ? {} : VEGA_DEBUG;\n",
       "  (function(spec, embedOpt){\n",
       "    let outputDiv = document.currentScript.previousElementSibling;\n",
       "    if (outputDiv.id !== \"altair-viz-207a2c877c1744a594ddde99f3b0718e\") {\n",
       "      outputDiv = document.getElementById(\"altair-viz-207a2c877c1744a594ddde99f3b0718e\");\n",
       "    }\n",
       "    const paths = {\n",
       "      \"vega\": \"https://cdn.jsdelivr.net/npm/vega@5?noext\",\n",
       "      \"vega-lib\": \"https://cdn.jsdelivr.net/npm/vega-lib?noext\",\n",
       "      \"vega-lite\": \"https://cdn.jsdelivr.net/npm/vega-lite@5.17.0?noext\",\n",
       "      \"vega-embed\": \"https://cdn.jsdelivr.net/npm/vega-embed@6?noext\",\n",
       "    };\n",
       "\n",
       "    function maybeLoadScript(lib, version) {\n",
       "      var key = `${lib.replace(\"-\", \"\")}_version`;\n",
       "      return (VEGA_DEBUG[key] == version) ?\n",
       "        Promise.resolve(paths[lib]) :\n",
       "        new Promise(function(resolve, reject) {\n",
       "          var s = document.createElement('script');\n",
       "          document.getElementsByTagName(\"head\")[0].appendChild(s);\n",
       "          s.async = true;\n",
       "          s.onload = () => {\n",
       "            VEGA_DEBUG[key] = version;\n",
       "            return resolve(paths[lib]);\n",
       "          };\n",
       "          s.onerror = () => reject(`Error loading script: ${paths[lib]}`);\n",
       "          s.src = paths[lib];\n",
       "        });\n",
       "    }\n",
       "\n",
       "    function showError(err) {\n",
       "      outputDiv.innerHTML = `<div class=\"error\" style=\"color:red;\">${err}</div>`;\n",
       "      throw err;\n",
       "    }\n",
       "\n",
       "    function displayChart(vegaEmbed) {\n",
       "      vegaEmbed(outputDiv, spec, embedOpt)\n",
       "        .catch(err => showError(`Javascript Error: ${err.message}<br>This usually means there's a typo in your chart specification. See the javascript console for the full traceback.`));\n",
       "    }\n",
       "\n",
       "    if(typeof define === \"function\" && define.amd) {\n",
       "      requirejs.config({paths});\n",
       "      require([\"vega-embed\"], displayChart, err => showError(`Error loading script: ${err.message}`));\n",
       "    } else {\n",
       "      maybeLoadScript(\"vega\", \"5\")\n",
       "        .then(() => maybeLoadScript(\"vega-lite\", \"5.17.0\"))\n",
       "        .then(() => maybeLoadScript(\"vega-embed\", \"6\"))\n",
       "        .catch(showError)\n",
       "        .then(() => displayChart(vegaEmbed));\n",
       "    }\n",
       "  })({\"config\": {\"view\": {\"continuousWidth\": 300, \"continuousHeight\": 300, \"strokeWidth\": 0}}, \"hconcat\": [{\"data\": {\"name\": \"data-67564a6f76aec1ff5b7caf21def0b94b\"}, \"mark\": {\"type\": \"arc\", \"innerRadius\": 0}, \"encoding\": {\"color\": {\"field\": \"Environment campaigns\", \"type\": \"nominal\"}, \"theta\": {\"field\": \"Count\", \"type\": \"quantitative\"}, \"tooltip\": [{\"field\": \"Environment campaigns\", \"type\": \"nominal\"}, {\"field\": \"Count\", \"type\": \"quantitative\"}]}, \"height\": 200, \"name\": \"view_1\", \"width\": 200}, {\"data\": {\"name\": \"data-c9cfa1f09afec71479964d9159494419\"}, \"mark\": {\"type\": \"arc\", \"innerRadius\": 0}, \"encoding\": {\"color\": {\"field\": \"Social campaigns\", \"type\": \"nominal\"}, \"theta\": {\"field\": \"Count\", \"type\": \"quantitative\"}, \"tooltip\": [{\"field\": \"Social campaigns\", \"type\": \"nominal\"}, {\"field\": \"Count\", \"type\": \"quantitative\"}]}, \"height\": 200, \"name\": \"view_2\", \"width\": 200}], \"params\": [{\"name\": \"param_1\", \"select\": {\"type\": \"interval\", \"encodings\": [\"x\", \"y\"]}, \"bind\": \"scales\", \"views\": [\"view_1\"]}, {\"name\": \"param_2\", \"select\": {\"type\": \"interval\", \"encodings\": [\"x\", \"y\"]}, \"bind\": \"scales\", \"views\": [\"view_2\"]}], \"$schema\": \"https://vega.github.io/schema/vega-lite/v5.17.0.json\", \"datasets\": {\"data-67564a6f76aec1ff5b7caf21def0b94b\": [{\"Environment campaigns\": \"Failure\", \"Count\": 706}, {\"Environment campaigns\": \"Success\", \"Count\": 301}, {\"Environment campaigns\": \"Blockbuster\", \"Count\": 40}], \"data-c9cfa1f09afec71479964d9159494419\": [{\"Social campaigns\": \"Failure\", \"Count\": 407}, {\"Social campaigns\": \"Success\", \"Count\": 276}, {\"Social campaigns\": \"Blockbuster\", \"Count\": 15}]}}, {\"mode\": \"vega-lite\"});\n",
       "</script>"
      ],
      "text/plain": [
       "alt.HConcatChart(...)"
      ]
     },
     "execution_count": 10,
     "metadata": {},
     "output_type": "execute_result"
    }
   ],
   "source": [
    "count_envt_fail= len(df_envt[df_envt['is_success']=='fail'])\n",
    "count_envt_success= len(df_envt[df_envt['is_success']=='goal_achieved'])\n",
    "count_envt_blockbuster= len(df_envt[df_envt['is_success']=='blockbuster'])\n",
    "\n",
    "count_social_fail= len(df_social[df_social['is_success']=='fail'])\n",
    "count_social_success= len(df_social[df_social['is_success']=='goal_achieved'])\n",
    "count_social_blockbuster= len(df_social[df_social['is_success']=='blockbuster'])\n",
    "\n",
    "\n",
    "data_envt = {'Environment campaigns': ['Failure','Success', 'Blockbuster'],\n",
    "        'Count': [count_envt_fail,count_envt_success,count_envt_blockbuster],\n",
    "        }\n",
    "data_envt= pd.DataFrame(data_envt)\n",
    "\n",
    "chart_envt = alt.Chart(data_envt).mark_arc(innerRadius=0).encode(\n",
    "    theta=alt.Theta(field=\"Count\", type=\"quantitative\"),\n",
    "    color=alt.Color(field=\"Environment campaigns\", type=\"nominal\"),\n",
    "    tooltip=['Environment campaigns', 'Count']\n",
    ").properties(\n",
    "    width=200,\n",
    "    height=200\n",
    ").interactive()\n",
    "\n",
    "data_social = {'Social campaigns': ['Failure','Success', 'Blockbuster'],\n",
    "        'Count': [count_social_fail,count_social_success,count_social_blockbuster],\n",
    "        }\n",
    "data_social= pd.DataFrame(data_social)\n",
    "\n",
    "chart_social = alt.Chart(data_social).mark_arc(innerRadius=0).encode(\n",
    "    theta=alt.Theta(field=\"Count\", type=\"quantitative\"),\n",
    "    color=alt.Color(field=\"Social campaigns\", type=\"nominal\"),\n",
    "    tooltip=['Social campaigns', 'Count']\n",
    ").properties(\n",
    "    width=200,\n",
    "    height=200\n",
    ").interactive()\n",
    "\n",
    "combined_charts = alt.hconcat(chart_envt, chart_social).configure_view(\n",
    "    strokeWidth=0\n",
    ")\n",
    "combined_charts"
   ]
  },
  {
   "cell_type": "markdown",
   "metadata": {},
   "source": [
    "Similar trends are observed for both social and environmental campaigns. Almost <span style=\"color: red\">3/4ths</span> of campaigns of both type <span style=\"color: red\">failed to acquire the required funding </span>. Almost <span style=\"color: green\">1/4th </span>of the campaigns from both categories were <span style=\"color: green\">success</span>- they acquired maximum upto 300% of the requested funding. A very <span style=\"color: cyan\">small percentage of the campaigns</span> acquired <span style=\"color: cyan\">more than atleast 300% funding</span>."
   ]
  },
  {
   "cell_type": "code",
   "execution_count": 11,
   "metadata": {},
   "outputs": [
    {
     "data": {
      "text/html": [
       "\n",
       "<style>\n",
       "  #altair-viz-de8fa1ecd1f343cf87ff3e9bb79c45a3.vega-embed {\n",
       "    width: 100%;\n",
       "    display: flex;\n",
       "  }\n",
       "\n",
       "  #altair-viz-de8fa1ecd1f343cf87ff3e9bb79c45a3.vega-embed details,\n",
       "  #altair-viz-de8fa1ecd1f343cf87ff3e9bb79c45a3.vega-embed details summary {\n",
       "    position: relative;\n",
       "  }\n",
       "</style>\n",
       "<div id=\"altair-viz-de8fa1ecd1f343cf87ff3e9bb79c45a3\"></div>\n",
       "<script type=\"text/javascript\">\n",
       "  var VEGA_DEBUG = (typeof VEGA_DEBUG == \"undefined\") ? {} : VEGA_DEBUG;\n",
       "  (function(spec, embedOpt){\n",
       "    let outputDiv = document.currentScript.previousElementSibling;\n",
       "    if (outputDiv.id !== \"altair-viz-de8fa1ecd1f343cf87ff3e9bb79c45a3\") {\n",
       "      outputDiv = document.getElementById(\"altair-viz-de8fa1ecd1f343cf87ff3e9bb79c45a3\");\n",
       "    }\n",
       "    const paths = {\n",
       "      \"vega\": \"https://cdn.jsdelivr.net/npm/vega@5?noext\",\n",
       "      \"vega-lib\": \"https://cdn.jsdelivr.net/npm/vega-lib?noext\",\n",
       "      \"vega-lite\": \"https://cdn.jsdelivr.net/npm/vega-lite@5.17.0?noext\",\n",
       "      \"vega-embed\": \"https://cdn.jsdelivr.net/npm/vega-embed@6?noext\",\n",
       "    };\n",
       "\n",
       "    function maybeLoadScript(lib, version) {\n",
       "      var key = `${lib.replace(\"-\", \"\")}_version`;\n",
       "      return (VEGA_DEBUG[key] == version) ?\n",
       "        Promise.resolve(paths[lib]) :\n",
       "        new Promise(function(resolve, reject) {\n",
       "          var s = document.createElement('script');\n",
       "          document.getElementsByTagName(\"head\")[0].appendChild(s);\n",
       "          s.async = true;\n",
       "          s.onload = () => {\n",
       "            VEGA_DEBUG[key] = version;\n",
       "            return resolve(paths[lib]);\n",
       "          };\n",
       "          s.onerror = () => reject(`Error loading script: ${paths[lib]}`);\n",
       "          s.src = paths[lib];\n",
       "        });\n",
       "    }\n",
       "\n",
       "    function showError(err) {\n",
       "      outputDiv.innerHTML = `<div class=\"error\" style=\"color:red;\">${err}</div>`;\n",
       "      throw err;\n",
       "    }\n",
       "\n",
       "    function displayChart(vegaEmbed) {\n",
       "      vegaEmbed(outputDiv, spec, embedOpt)\n",
       "        .catch(err => showError(`Javascript Error: ${err.message}<br>This usually means there's a typo in your chart specification. See the javascript console for the full traceback.`));\n",
       "    }\n",
       "\n",
       "    if(typeof define === \"function\" && define.amd) {\n",
       "      requirejs.config({paths});\n",
       "      require([\"vega-embed\"], displayChart, err => showError(`Error loading script: ${err.message}`));\n",
       "    } else {\n",
       "      maybeLoadScript(\"vega\", \"5\")\n",
       "        .then(() => maybeLoadScript(\"vega-lite\", \"5.17.0\"))\n",
       "        .then(() => maybeLoadScript(\"vega-embed\", \"6\"))\n",
       "        .catch(showError)\n",
       "        .then(() => displayChart(vegaEmbed));\n",
       "    }\n",
       "  })({\"config\": {\"view\": {\"continuousWidth\": 300, \"continuousHeight\": 300, \"strokeWidth\": 0}}, \"vconcat\": [{\"data\": {\"name\": \"data-709945515096abb421517f9a9b0c497b\"}, \"mark\": {\"type\": \"arc\", \"innerRadius\": 60}, \"encoding\": {\"color\": {\"field\": \"goal_usd_category\", \"type\": \"nominal\"}, \"theta\": {\"field\": \"count\", \"type\": \"quantitative\"}, \"tooltip\": [{\"field\": \"goal_usd_category\", \"type\": \"nominal\"}, {\"field\": \"count\", \"type\": \"quantitative\"}]}, \"height\": 250, \"title\": \"Distribution of fund targets in environmental campaigns\", \"width\": 250}, {\"data\": {\"name\": \"data-3c315d76ae59a005de55bed124582563\"}, \"mark\": {\"type\": \"arc\", \"innerRadius\": 60}, \"encoding\": {\"color\": {\"field\": \"goal_usd_category\", \"type\": \"nominal\"}, \"theta\": {\"field\": \"count\", \"type\": \"quantitative\"}, \"tooltip\": [{\"field\": \"goal_usd_category\", \"type\": \"nominal\"}, {\"field\": \"count\", \"type\": \"quantitative\"}]}, \"height\": 250, \"title\": \"Distribution of fund targets in social campaigns\", \"width\": 250}], \"$schema\": \"https://vega.github.io/schema/vega-lite/v5.17.0.json\", \"datasets\": {\"data-709945515096abb421517f9a9b0c497b\": [{\"goal_usd_category\": \"1k-10k\", \"count\": 457}, {\"goal_usd_category\": \"10k-50k\", \"count\": 416}, {\"goal_usd_category\": \"50k_plus\", \"count\": 174}], \"data-3c315d76ae59a005de55bed124582563\": [{\"goal_usd_category\": \"1k-10k\", \"count\": 305}, {\"goal_usd_category\": \"10k-50k\", \"count\": 284}, {\"goal_usd_category\": \"50k_plus\", \"count\": 109}]}}, {\"mode\": \"vega-lite\"});\n",
       "</script>"
      ],
      "text/plain": [
       "alt.VConcatChart(...)"
      ]
     },
     "execution_count": 11,
     "metadata": {},
     "output_type": "execute_result"
    }
   ],
   "source": [
    "# Distribution of funding target amounts for environmentally relevant campaigns\n",
    "target_amounts_counts_envt = df_envt['goal_usd_category'].value_counts().reset_index()\n",
    "target_amounts_counts_envt.columns = ['goal_usd_category', 'count']  # Rename columns for clarity\n",
    "\n",
    "\n",
    "pie_chart_envt = alt.Chart(target_amounts_counts_envt).mark_arc(innerRadius=60).encode(\n",
    "    theta=alt.Theta(field=\"count\", type=\"quantitative\"),  # The angle of the arc\n",
    "    color=alt.Color(field=\"goal_usd_category\", type=\"nominal\"),  # Color by main_category\n",
    "    tooltip=['goal_usd_category', 'count']  # Show tooltips for additional info\n",
    ").properties(\n",
    "    width=250,\n",
    "    height=250,\n",
    "    title='Distribution of fund targets in environmental campaigns'\n",
    ")\n",
    "\n",
    "# Distribution of funding target amounts  for socially relevant campaigns\n",
    "target_amounts_counts_social = df_social['goal_usd_category'].value_counts().reset_index()\n",
    "target_amounts_counts_social.columns = ['goal_usd_category', 'count']  # Rename columns for clarity\n",
    "\n",
    "\n",
    "pie_chart_social = alt.Chart(target_amounts_counts_social).mark_arc(innerRadius=60).encode(\n",
    "    theta=alt.Theta(field=\"count\", type=\"quantitative\"),  # The angle of the arc\n",
    "    color=alt.Color(field=\"goal_usd_category\", type=\"nominal\"),  # Color by main_category\n",
    "    tooltip=['goal_usd_category', 'count']  # Show tooltips for additional info\n",
    ").properties(\n",
    "    width=250,\n",
    "    height=250,\n",
    "    title='Distribution of fund targets in social campaigns'\n",
    ")\n",
    "\n",
    "combined_charts = alt.vconcat(pie_chart_envt, pie_chart_social).configure_view(\n",
    "    strokeWidth=0\n",
    ")\n",
    "combined_charts"
   ]
  },
  {
   "cell_type": "markdown",
   "metadata": {},
   "source": [
    "Similar trends are observable in the funding amount targets. In both social and environmnetal categories, little <span style=\"color: fuchsia\">less than one-half each of all campaigns</span> targeted amounts in the <span style=\"color: fuchsia\">range of 1k-10k USD and 10k-50k USD</span>. Around <span style=\"color: olive\">1/8th of the campaigns</span> requested <span style=\"color: olive\">more than 50k USD</span>."
   ]
  },
  {
   "cell_type": "code",
   "execution_count": 12,
   "metadata": {},
   "outputs": [
    {
     "data": {
      "text/html": [
       "\n",
       "<style>\n",
       "  #altair-viz-daf2d988930a4fb5a89ed11a00835ada.vega-embed {\n",
       "    width: 100%;\n",
       "    display: flex;\n",
       "  }\n",
       "\n",
       "  #altair-viz-daf2d988930a4fb5a89ed11a00835ada.vega-embed details,\n",
       "  #altair-viz-daf2d988930a4fb5a89ed11a00835ada.vega-embed details summary {\n",
       "    position: relative;\n",
       "  }\n",
       "</style>\n",
       "<div id=\"altair-viz-daf2d988930a4fb5a89ed11a00835ada\"></div>\n",
       "<script type=\"text/javascript\">\n",
       "  var VEGA_DEBUG = (typeof VEGA_DEBUG == \"undefined\") ? {} : VEGA_DEBUG;\n",
       "  (function(spec, embedOpt){\n",
       "    let outputDiv = document.currentScript.previousElementSibling;\n",
       "    if (outputDiv.id !== \"altair-viz-daf2d988930a4fb5a89ed11a00835ada\") {\n",
       "      outputDiv = document.getElementById(\"altair-viz-daf2d988930a4fb5a89ed11a00835ada\");\n",
       "    }\n",
       "    const paths = {\n",
       "      \"vega\": \"https://cdn.jsdelivr.net/npm/vega@5?noext\",\n",
       "      \"vega-lib\": \"https://cdn.jsdelivr.net/npm/vega-lib?noext\",\n",
       "      \"vega-lite\": \"https://cdn.jsdelivr.net/npm/vega-lite@5.17.0?noext\",\n",
       "      \"vega-embed\": \"https://cdn.jsdelivr.net/npm/vega-embed@6?noext\",\n",
       "    };\n",
       "\n",
       "    function maybeLoadScript(lib, version) {\n",
       "      var key = `${lib.replace(\"-\", \"\")}_version`;\n",
       "      return (VEGA_DEBUG[key] == version) ?\n",
       "        Promise.resolve(paths[lib]) :\n",
       "        new Promise(function(resolve, reject) {\n",
       "          var s = document.createElement('script');\n",
       "          document.getElementsByTagName(\"head\")[0].appendChild(s);\n",
       "          s.async = true;\n",
       "          s.onload = () => {\n",
       "            VEGA_DEBUG[key] = version;\n",
       "            return resolve(paths[lib]);\n",
       "          };\n",
       "          s.onerror = () => reject(`Error loading script: ${paths[lib]}`);\n",
       "          s.src = paths[lib];\n",
       "        });\n",
       "    }\n",
       "\n",
       "    function showError(err) {\n",
       "      outputDiv.innerHTML = `<div class=\"error\" style=\"color:red;\">${err}</div>`;\n",
       "      throw err;\n",
       "    }\n",
       "\n",
       "    function displayChart(vegaEmbed) {\n",
       "      vegaEmbed(outputDiv, spec, embedOpt)\n",
       "        .catch(err => showError(`Javascript Error: ${err.message}<br>This usually means there's a typo in your chart specification. See the javascript console for the full traceback.`));\n",
       "    }\n",
       "\n",
       "    if(typeof define === \"function\" && define.amd) {\n",
       "      requirejs.config({paths});\n",
       "      require([\"vega-embed\"], displayChart, err => showError(`Error loading script: ${err.message}`));\n",
       "    } else {\n",
       "      maybeLoadScript(\"vega\", \"5\")\n",
       "        .then(() => maybeLoadScript(\"vega-lite\", \"5.17.0\"))\n",
       "        .then(() => maybeLoadScript(\"vega-embed\", \"6\"))\n",
       "        .catch(showError)\n",
       "        .then(() => displayChart(vegaEmbed));\n",
       "    }\n",
       "  })({\"config\": {\"view\": {\"continuousWidth\": 300, \"continuousHeight\": 300, \"strokeWidth\": 0}}, \"vconcat\": [{\"data\": {\"name\": \"data-5f6411b3b70c6574ef35aa6d78738b27\"}, \"mark\": {\"type\": \"arc\", \"innerRadius\": 40}, \"encoding\": {\"color\": {\"field\": \"main_category\", \"type\": \"nominal\"}, \"theta\": {\"field\": \"count\", \"type\": \"quantitative\"}, \"tooltip\": [{\"field\": \"main_category\", \"type\": \"nominal\"}, {\"field\": \"count\", \"type\": \"quantitative\"}]}, \"height\": 250, \"title\": \"Distribution of categories in environmental campaigns\", \"width\": 250}, {\"data\": {\"name\": \"data-56603d3a8873edcd0a2f99546fe9b308\"}, \"mark\": {\"type\": \"arc\", \"innerRadius\": 40}, \"encoding\": {\"color\": {\"field\": \"main_category\", \"type\": \"nominal\"}, \"theta\": {\"field\": \"count\", \"type\": \"quantitative\"}, \"tooltip\": [{\"field\": \"main_category\", \"type\": \"nominal\"}, {\"field\": \"count\", \"type\": \"quantitative\"}]}, \"height\": 250, \"title\": \"Distribution of categories in social campaigns\", \"width\": 250}], \"$schema\": \"https://vega.github.io/schema/vega-lite/v5.17.0.json\", \"datasets\": {\"data-5f6411b3b70c6574ef35aa6d78738b27\": [{\"main_category\": \"Food\", \"count\": 588}, {\"main_category\": \"Fashion\", \"count\": 144}, {\"main_category\": \"Crafts\", \"count\": 77}, {\"main_category\": \"Design\", \"count\": 74}, {\"main_category\": \"Technology\", \"count\": 58}, {\"main_category\": \"Art\", \"count\": 23}, {\"main_category\": \"Publishing\", \"count\": 18}, {\"main_category\": \"Film & Video\", \"count\": 16}, {\"main_category\": \"Games\", \"count\": 12}, {\"main_category\": \"Music\", \"count\": 11}, {\"main_category\": \"Photography\", \"count\": 10}, {\"main_category\": \"Journalism\", \"count\": 9}, {\"main_category\": \"Theater\", \"count\": 4}, {\"main_category\": \"Comics\", \"count\": 2}, {\"main_category\": \"Dance\", \"count\": 1}], \"data-56603d3a8873edcd0a2f99546fe9b308\": [{\"main_category\": \"Food\", \"count\": 230}, {\"main_category\": \"Technology\", \"count\": 100}, {\"main_category\": \"Publishing\", \"count\": 85}, {\"main_category\": \"Art\", \"count\": 53}, {\"main_category\": \"Fashion\", \"count\": 42}, {\"main_category\": \"Film & Video\", \"count\": 39}, {\"main_category\": \"Journalism\", \"count\": 29}, {\"main_category\": \"Music\", \"count\": 28}, {\"main_category\": \"Photography\", \"count\": 19}, {\"main_category\": \"Design\", \"count\": 18}, {\"main_category\": \"Theater\", \"count\": 15}, {\"main_category\": \"Crafts\", \"count\": 14}, {\"main_category\": \"Games\", \"count\": 13}, {\"main_category\": \"Dance\", \"count\": 10}, {\"main_category\": \"Comics\", \"count\": 3}]}}, {\"mode\": \"vega-lite\"});\n",
       "</script>"
      ],
      "text/plain": [
       "alt.VConcatChart(...)"
      ]
     },
     "execution_count": 12,
     "metadata": {},
     "output_type": "execute_result"
    }
   ],
   "source": [
    "# Distribution of main categories for environmentally relevant campaigns\n",
    "main_category_counts_envt = df_envt['main_category'].value_counts().reset_index()\n",
    "main_category_counts_envt.columns = ['main_category', 'count']  # Rename columns for clarity\n",
    "\n",
    "\n",
    "pie_chart_envt = alt.Chart(main_category_counts_envt).mark_arc(innerRadius=40).encode(\n",
    "    theta=alt.Theta(field=\"count\", type=\"quantitative\"),  # The angle of the arc\n",
    "    color=alt.Color(field=\"main_category\", type=\"nominal\"),  # Color by main_category\n",
    "    tooltip=['main_category', 'count']  # Show tooltips for additional info\n",
    ").properties(\n",
    "    width=250,\n",
    "    height=250,\n",
    "    title='Distribution of categories in environmental campaigns'\n",
    ")\n",
    "\n",
    "# Distribution of main categories for socially relevant campaigns\n",
    "main_category_counts_social = df_social['main_category'].value_counts().reset_index()\n",
    "main_category_counts_social.columns = ['main_category', 'count']  # Rename columns for clarity\n",
    "\n",
    "\n",
    "pie_chart_social = alt.Chart(main_category_counts_social).mark_arc(innerRadius=40).encode(\n",
    "    theta=alt.Theta(field=\"count\", type=\"quantitative\"),  # The angle of the arc\n",
    "    color=alt.Color(field=\"main_category\", type=\"nominal\"),  # Color by main_category\n",
    "    tooltip=['main_category', 'count']  # Show tooltips for additional info\n",
    ").properties(\n",
    "    width=250,\n",
    "    height=250,\n",
    "    title='Distribution of categories in social campaigns'\n",
    ")\n",
    "\n",
    "combined_charts = alt.vconcat(pie_chart_envt, pie_chart_social).configure_view(\n",
    "    strokeWidth=0\n",
    ")\n",
    "combined_charts"
   ]
  },
  {
   "cell_type": "markdown",
   "metadata": {},
   "source": [
    "The distribution of categories in which the funding was requested shows interesting trends. More than <span style=\"color: blue\">one-half </span>of the requests in environmental categories are <span style=\"color: blue\">food-related, followed by fashion</span>, showing that there are many campaigns which are targeted to find environment-friendly solutions in these 2 domains. The <span style=\"color: teal\">social campaigns also lead</span> in the food category, followed by <span style=\"color: teal\">technology, art and publishing</span>."
   ]
  },
  {
   "cell_type": "code",
   "execution_count": null,
   "metadata": {},
   "outputs": [],
   "source": [
    "# Distribution of main categories for environmentally relevant campaigns\n",
    "main_category_counts_envt = df_envt['main_category'].value_counts().reset_index()\n",
    "main_category_counts_envt.columns = ['main_category', 'count']  # Rename columns for clarity\n",
    "\n",
    "\n",
    "pie_chart_envt = alt.Chart(main_category_counts_envt).mark_arc(innerRadius=40).encode(\n",
    "    theta=alt.Theta(field=\"count\", type=\"quantitative\"),  # The angle of the arc\n",
    "    color=alt.Color(field=\"main_category\", type=\"nominal\"),  # Color by main_category\n",
    "    tooltip=['main_category', 'count']  # Show tooltips for additional info\n",
    ").properties(\n",
    "    width=250,\n",
    "    height=250,\n",
    "    title='Distribution of categories in environmental campaigns'\n",
    ")\n",
    "\n",
    "# Distribution of main categories for socially relevant campaigns\n",
    "main_category_counts_social = df_social['main_category'].value_counts().reset_index()\n",
    "main_category_counts_social.columns = ['main_category', 'count']  # Rename columns for clarity\n",
    "\n",
    "\n",
    "pie_chart_social = alt.Chart(main_category_counts_social).mark_arc(innerRadius=40).encode(\n",
    "    theta=alt.Theta(field=\"count\", type=\"quantitative\"),  # The angle of the arc\n",
    "    color=alt.Color(field=\"main_category\", type=\"nominal\"),  # Color by main_category\n",
    "    tooltip=['main_category', 'count']  # Show tooltips for additional info\n",
    ").properties(\n",
    "    width=250,\n",
    "    height=250,\n",
    "    title='Distribution of categories in social campaigns'\n",
    ")\n",
    "\n",
    "combined_charts = alt.vconcat(pie_chart_envt, pie_chart_social).configure_view(\n",
    "    strokeWidth=0\n",
    ")\n",
    "combined_charts"
   ]
  },
  {
   "cell_type": "code",
   "execution_count": 13,
   "metadata": {},
   "outputs": [
    {
     "data": {
      "text/html": [
       "\n",
       "<style>\n",
       "  #altair-viz-9db211b8a32a4aa3b6a385cf276f1ebe.vega-embed {\n",
       "    width: 100%;\n",
       "    display: flex;\n",
       "  }\n",
       "\n",
       "  #altair-viz-9db211b8a32a4aa3b6a385cf276f1ebe.vega-embed details,\n",
       "  #altair-viz-9db211b8a32a4aa3b6a385cf276f1ebe.vega-embed details summary {\n",
       "    position: relative;\n",
       "  }\n",
       "</style>\n",
       "<div id=\"altair-viz-9db211b8a32a4aa3b6a385cf276f1ebe\"></div>\n",
       "<script type=\"text/javascript\">\n",
       "  var VEGA_DEBUG = (typeof VEGA_DEBUG == \"undefined\") ? {} : VEGA_DEBUG;\n",
       "  (function(spec, embedOpt){\n",
       "    let outputDiv = document.currentScript.previousElementSibling;\n",
       "    if (outputDiv.id !== \"altair-viz-9db211b8a32a4aa3b6a385cf276f1ebe\") {\n",
       "      outputDiv = document.getElementById(\"altair-viz-9db211b8a32a4aa3b6a385cf276f1ebe\");\n",
       "    }\n",
       "    const paths = {\n",
       "      \"vega\": \"https://cdn.jsdelivr.net/npm/vega@5?noext\",\n",
       "      \"vega-lib\": \"https://cdn.jsdelivr.net/npm/vega-lib?noext\",\n",
       "      \"vega-lite\": \"https://cdn.jsdelivr.net/npm/vega-lite@5.17.0?noext\",\n",
       "      \"vega-embed\": \"https://cdn.jsdelivr.net/npm/vega-embed@6?noext\",\n",
       "    };\n",
       "\n",
       "    function maybeLoadScript(lib, version) {\n",
       "      var key = `${lib.replace(\"-\", \"\")}_version`;\n",
       "      return (VEGA_DEBUG[key] == version) ?\n",
       "        Promise.resolve(paths[lib]) :\n",
       "        new Promise(function(resolve, reject) {\n",
       "          var s = document.createElement('script');\n",
       "          document.getElementsByTagName(\"head\")[0].appendChild(s);\n",
       "          s.async = true;\n",
       "          s.onload = () => {\n",
       "            VEGA_DEBUG[key] = version;\n",
       "            return resolve(paths[lib]);\n",
       "          };\n",
       "          s.onerror = () => reject(`Error loading script: ${paths[lib]}`);\n",
       "          s.src = paths[lib];\n",
       "        });\n",
       "    }\n",
       "\n",
       "    function showError(err) {\n",
       "      outputDiv.innerHTML = `<div class=\"error\" style=\"color:red;\">${err}</div>`;\n",
       "      throw err;\n",
       "    }\n",
       "\n",
       "    function displayChart(vegaEmbed) {\n",
       "      vegaEmbed(outputDiv, spec, embedOpt)\n",
       "        .catch(err => showError(`Javascript Error: ${err.message}<br>This usually means there's a typo in your chart specification. See the javascript console for the full traceback.`));\n",
       "    }\n",
       "\n",
       "    if(typeof define === \"function\" && define.amd) {\n",
       "      requirejs.config({paths});\n",
       "      require([\"vega-embed\"], displayChart, err => showError(`Error loading script: ${err.message}`));\n",
       "    } else {\n",
       "      maybeLoadScript(\"vega\", \"5\")\n",
       "        .then(() => maybeLoadScript(\"vega-lite\", \"5.17.0\"))\n",
       "        .then(() => maybeLoadScript(\"vega-embed\", \"6\"))\n",
       "        .catch(showError)\n",
       "        .then(() => displayChart(vegaEmbed));\n",
       "    }\n",
       "  })({\"config\": {\"view\": {\"continuousWidth\": 300, \"continuousHeight\": 300, \"strokeWidth\": 0}}, \"hconcat\": [{\"data\": {\"name\": \"data-5c644657d7f6c6ed3ba7feafc367334b\"}, \"mark\": {\"type\": \"bar\"}, \"encoding\": {\"tooltip\": [{\"field\": \"country\", \"type\": \"nominal\"}, {\"field\": \"count\", \"type\": \"quantitative\"}], \"x\": {\"field\": \"country\", \"sort\": \"-y\", \"type\": \"nominal\"}, \"y\": {\"field\": \"count\", \"type\": \"quantitative\"}}, \"height\": 250, \"title\": \"Count of Environmentally successful Campaigns by Country\", \"width\": 250}, {\"data\": {\"name\": \"data-f17a852d5a250825d9e87a7c30d51d49\"}, \"mark\": {\"type\": \"bar\"}, \"encoding\": {\"tooltip\": [{\"field\": \"country\", \"type\": \"nominal\"}, {\"field\": \"count\", \"type\": \"quantitative\"}], \"x\": {\"field\": \"country\", \"sort\": \"-y\", \"type\": \"nominal\"}, \"y\": {\"field\": \"count\", \"type\": \"quantitative\"}}, \"height\": 250, \"title\": \"Count of Socially successful Campaigns by Country\", \"width\": 250}], \"$schema\": \"https://vega.github.io/schema/vega-lite/v5.17.0.json\", \"datasets\": {\"data-5c644657d7f6c6ed3ba7feafc367334b\": [{\"country\": \"US\", \"count\": 223}, {\"country\": \"GB\", \"count\": 36}, {\"country\": \"CA\", \"count\": 16}, {\"country\": \"AU\", \"count\": 9}, {\"country\": \"ES\", \"count\": 9}, {\"country\": \"FR\", \"count\": 8}, {\"country\": \"DK\", \"count\": 7}, {\"country\": \"HK\", \"count\": 7}, {\"country\": \"DE\", \"count\": 6}, {\"country\": \"IT\", \"count\": 5}, {\"country\": \"SG\", \"count\": 4}, {\"country\": \"CH\", \"count\": 3}, {\"country\": \"NL\", \"count\": 2}, {\"country\": \"JP\", \"count\": 2}, {\"country\": \"IE\", \"count\": 1}, {\"country\": \"NO\", \"count\": 1}, {\"country\": \"AT\", \"count\": 1}, {\"country\": \"SE\", \"count\": 1}], \"data-f17a852d5a250825d9e87a7c30d51d49\": [{\"country\": \"US\", \"count\": 237}, {\"country\": \"GB\", \"count\": 20}, {\"country\": \"CA\", \"count\": 11}, {\"country\": \"AU\", \"count\": 7}, {\"country\": \"DE\", \"count\": 4}, {\"country\": \"ES\", \"count\": 2}, {\"country\": \"HK\", \"count\": 2}, {\"country\": \"NL\", \"count\": 2}, {\"country\": \"NO\", \"count\": 1}, {\"country\": \"IE\", \"count\": 1}, {\"country\": \"CH\", \"count\": 1}, {\"country\": \"MX\", \"count\": 1}, {\"country\": \"SE\", \"count\": 1}, {\"country\": \"NZ\", \"count\": 1}]}}, {\"mode\": \"vega-lite\"});\n",
       "</script>"
      ],
      "text/plain": [
       "alt.HConcatChart(...)"
      ]
     },
     "execution_count": 13,
     "metadata": {},
     "output_type": "execute_result"
    }
   ],
   "source": [
    "#Environmental relevance\n",
    "# Step 1: Filter for successful campaigns (assuming 'is_success' indicates success)\n",
    "df_successful_envt = df_envt[df_envt['is_success'] != 'fail'] \n",
    "\n",
    "# Step 2 & 3: Get value counts and reset index to make it a DataFrame\n",
    "country_counts_envt = df_successful_envt['country'].value_counts().reset_index()\n",
    "country_counts_envt.columns = ['country', 'count']  # Renaming columns for clarity\n",
    "\n",
    "chart_envt = alt.Chart(country_counts_envt).mark_bar().encode(\n",
    "    x=alt.X('country:N', sort='-y'),  # Sort countries based on the count, in descending order\n",
    "    y=alt.Y('count:Q'),\n",
    "    tooltip=['country', 'count']\n",
    ").properties(\n",
    "    width=250,\n",
    "    height=250,\n",
    "    title='Count of Environmentally successful Campaigns by Country'\n",
    ")\n",
    "\n",
    "#Social relevance\n",
    "# Step 1: Filter for successful campaigns (assuming 'is_success' indicates success)\n",
    "df_successful_social= df_social[df_social['is_success'] != 'fail'] \n",
    "\n",
    "# Step 2 & 3: Get value counts and reset index to make it a DataFrame\n",
    "country_counts_social = df_successful_social['country'].value_counts().reset_index()\n",
    "country_counts_social.columns = ['country', 'count']  # Renaming columns for clarity\n",
    "\n",
    "chart_social = alt.Chart(country_counts_social).mark_bar().encode(\n",
    "    x=alt.X('country:N', sort='-y'),  # Sort countries based on the count, in descending order\n",
    "    y=alt.Y('count:Q'),\n",
    "    tooltip=['country', 'count']\n",
    ").properties(\n",
    "    width=250,\n",
    "    height=250,\n",
    "    title='Count of Socially successful Campaigns by Country'\n",
    ")\n",
    "\n",
    "\n",
    "combined_charts = alt.hconcat(chart_envt, chart_social).configure_view(\n",
    "    strokeWidth=0\n",
    ")\n",
    "combined_charts"
   ]
  },
  {
   "cell_type": "markdown",
   "metadata": {},
   "source": [
    "The country contributions show similar trends. <span style=\"color: lime\">United States (US) </span>leads in both categories, followed by <span style=\"color: blue\">Great Britain (GB), Canada (CA) and Australia (AUS)</span>."
   ]
  },
  {
   "cell_type": "markdown",
   "metadata": {},
   "source": [
    "## SVM on df"
   ]
  },
  {
   "cell_type": "code",
   "execution_count": 28,
   "metadata": {},
   "outputs": [],
   "source": [
    "x=df[['main_category', 'sub_category',\n",
    "      'is_environmental', 'is_social',\n",
    "      'country_code', 'duration_in_months',\n",
    "      'goal_usd_category', 'is_success']].copy()\n",
    "x['is_success'] = np.where(x['is_success']=='fail', 'fail', 'success')"
   ]
  },
  {
   "cell_type": "code",
   "execution_count": 29,
   "metadata": {},
   "outputs": [
    {
     "name": "stdout",
     "output_type": "stream",
     "text": [
      "Best parameters: {'svc__C': 0.1}\n",
      "Best cross-validation score: 0.748991005831382\n"
     ]
    }
   ],
   "source": [
    "# Step 1: Encode categorical variables\n",
    "categorical_features = ['main_category', 'sub_category',\n",
    "       'is_environmental', 'is_social', 'country_code']\n",
    "one_hot_encoder = OneHotEncoder(handle_unknown='ignore')\n",
    "feature_names= ['main_category', 'sub_category',\n",
    "      'is_environmental', 'is_social',\n",
    "      'country_code', 'duration_in_months',\n",
    "      'goal_usd_category']\n",
    "\n",
    "# Step 1: Encode categorical variables and split data into training and testing sets\n",
    "X = x[feature_names].copy()  # Features\n",
    "y = x['is_success']  # Target variable\n",
    "X_train, X_test, y_train, y_test = train_test_split(X, y, test_size=0.2, random_state=42, stratify=y)\n",
    "\n",
    "\n",
    "# Step 3: Scale features and create a processing pipeline\n",
    "preprocessor = ColumnTransformer(transformers=[\n",
    "    ('cat', one_hot_encoder, categorical_features)\n",
    "])\n",
    "\n",
    "svc_model= LinearSVC(random_state=42, tol=1e-5)\n",
    "# SVM model with pipeline\n",
    "svm_pipeline = Pipeline(steps=[\n",
    "    ('preprocessor', preprocessor),\n",
    "    ('scaler', StandardScaler(with_mean=False)),  # Use with_mean=False for sparse matrices\n",
    "    ('svc', svc_model)  # Using linear kernel; you can try 'rbf' or others\n",
    "])\n",
    "\n",
    "# Define the parameter grid to search\n",
    "param_grid = {\n",
    "    'svc__C': [0.1, 1, 10, 100],\n",
    "}\n",
    "\n",
    "# Setup the stratified folds\n",
    "stratified_k_fold = StratifiedKFold(n_splits=5)\n",
    "\n",
    "# Setup the GridSearchCV object\n",
    "grid_search = GridSearchCV(svm_pipeline, param_grid, cv=stratified_k_fold, scoring='accuracy')\n",
    "\n",
    "# Fit the model\n",
    "grid_search.fit(X, y)\n",
    "\n",
    "# Print the best parameters and the best score\n",
    "print(\"Best parameters:\", grid_search.best_params_)\n",
    "print(\"Best cross-validation score:\", grid_search.best_score_)"
   ]
  },
  {
   "cell_type": "code",
   "execution_count": 33,
   "metadata": {},
   "outputs": [
    {
     "name": "stdout",
     "output_type": "stream",
     "text": [
      "              precision    recall  f1-score   support\n",
      "\n",
      "        fail       0.70      0.80      0.74     12570\n",
      "     success       0.81      0.71      0.76     15329\n",
      "\n",
      "    accuracy                           0.75     27899\n",
      "   macro avg       0.75      0.76      0.75     27899\n",
      "weighted avg       0.76      0.75      0.75     27899\n",
      "\n"
     ]
    }
   ],
   "source": [
    "# Step 4: Train the SVM model\n",
    "svm_pipeline.fit(X_train, y_train)\n",
    "\n",
    "# Step 5: Evaluate the model\n",
    "y_pred = svm_pipeline.predict(X_test)\n",
    "print(classification_report(y_test, y_pred))"
   ]
  },
  {
   "cell_type": "code",
   "execution_count": 34,
   "metadata": {},
   "outputs": [
    {
     "name": "stdout",
     "output_type": "stream",
     "text": [
      "Feature: is_environmental, Importance: -0.06059888379571127\n",
      "Feature: sub_category, Importance: 0.05289902515102622\n",
      "Feature: goal_usd_category, Importance: -0.019619437012716782\n",
      "Feature: duration_in_months, Importance: 0.018483746365640093\n",
      "Feature: main_category, Importance: -0.018155922258632936\n",
      "Feature: is_social, Importance: 0.014907831451923982\n",
      "Feature: country, Importance: 0.013689495882467899\n"
     ]
    }
   ],
   "source": [
    "# Accessing the coefficients\n",
    "coefficients = svc_model.coef_[0]  # For a binary classification, .coef_ returns a 2D array\n",
    "\n",
    "# Assuming feature_names is a list of your feature names\n",
    "feature_importance = zip(feature_names, coefficients)\n",
    "\n",
    "# Sorting features by absolute importance\n",
    "sorted_feature_importance = sorted(feature_importance, key=lambda x: abs(x[1]), reverse=True)\n",
    "\n",
    "for feature, importance in sorted_feature_importance:\n",
    "    print(f\"Feature: {feature}, Importance: {importance}\")"
   ]
  },
  {
   "cell_type": "code",
   "execution_count": null,
   "metadata": {},
   "outputs": [],
   "source": [
    "from sklearn.model_selection import cross_val_score\n",
    "\n",
    "# Assuming the rest of the code is the same, especially the part where you define svm_pipeline and preprocessor\n",
    "\n",
    "# Prepare the full dataset (without explicit train-test split)\n",
    "X = x[categorical_features]  # Features\n",
    "y = x['is_success']  # Target variable\n",
    "\n",
    "# Execute cross-validation\n",
    "cv_scores = cross_val_score(svm_pipeline, X, y, cv=5)  # Using 5-fold cross-validation\n",
    "\n",
    "# Calculate and print the average score\n",
    "print(\"Average CV Score:\", cv_scores.mean())"
   ]
  },
  {
   "cell_type": "markdown",
   "metadata": {},
   "source": [
    "## RF on df"
   ]
  },
  {
   "cell_type": "code",
   "execution_count": 84,
   "metadata": {},
   "outputs": [],
   "source": [
    "x=df[['main_category', 'sub_category',\n",
    "      'is_environmental', 'is_social',\n",
    "      'country_code', 'duration_in_months',\n",
    "      'goal_usd_category', 'is_success']].copy()\n",
    "x['is_success'] = np.where(x['is_success']=='fail', 'fail', 'success')\n",
    "\n",
    "#x= x.head(50000)"
   ]
  },
  {
   "cell_type": "code",
   "execution_count": 86,
   "metadata": {},
   "outputs": [
    {
     "name": "stderr",
     "output_type": "stream",
     "text": [
      "[Parallel(n_jobs=-1)]: Using backend ThreadingBackend with 16 concurrent workers.\n",
      "[Parallel(n_jobs=-1)]: Done  18 tasks      | elapsed:    1.7s\n"
     ]
    },
    {
     "name": "stdout",
     "output_type": "stream",
     "text": [
      "Best parameters: {'classifier__max_depth': None, 'classifier__min_samples_leaf': 2, 'classifier__min_samples_split': 2, 'classifier__n_estimators': 150}\n",
      "Best cross-validation score: 0.7663763312922951\n"
     ]
    },
    {
     "name": "stderr",
     "output_type": "stream",
     "text": [
      "[Parallel(n_jobs=-1)]: Done 150 out of 150 | elapsed:    8.9s finished\n"
     ]
    }
   ],
   "source": [
    "categorical_features = ['main_category', 'sub_category','is_environmental',\n",
    "                 'is_social', 'country_code', 'duration_in_months',\n",
    "                'goal_usd_category']\n",
    "\n",
    "one_hot_encoder = OneHotEncoder(handle_unknown='ignore')\n",
    "\n",
    "feature_names= ['main_category', 'sub_category','is_environmental',\n",
    "                 'is_social', 'country_code', 'duration_in_months',\n",
    "                'goal_usd_category']\n",
    "# Step 1: Encode categorical variables and split data into training and testing sets\n",
    "X = x[feature_names].copy()  # Features\n",
    "y = x['is_success']  # Target variable\n",
    "X_train, X_test, y_train, y_test = train_test_split(X, y, test_size=0.2, random_state=42, stratify=y)\n",
    "\n",
    "# Step 2: Create a processing pipeline\n",
    "preprocessor = ColumnTransformer(transformers=[\n",
    "    ('cat', one_hot_encoder, categorical_features)\n",
    "])\n",
    "\n",
    "rfc= RandomForestClassifier(random_state=42, verbose=True, n_jobs=-1)\n",
    "\n",
    "# Random Forest model with pipeline\n",
    "rf_pipeline = Pipeline(steps=[\n",
    "    ('preprocessor', preprocessor),\n",
    "    ('scaler', StandardScaler(with_mean=False)),  # Use with_mean=False for sparse matrices\n",
    "    ('classifier', rfc)\n",
    "])\n",
    "\n",
    "# Define the parameter grid to search\n",
    "param_grid = {\n",
    "    'classifier__n_estimators': [50, 100, 150],\n",
    "    'classifier__max_depth': [None, 10, 20, 30],\n",
    "    'classifier__min_samples_split': [2, 5, 10],\n",
    "    'classifier__min_samples_leaf': [1, 2, 4]\n",
    "}\n",
    "\n",
    "# Setup the stratified folds and GridSearchCV object\n",
    "stratified_k_fold = StratifiedKFold(n_splits=5)\n",
    "grid_search = GridSearchCV(rf_pipeline, param_grid, cv=stratified_k_fold, scoring='accuracy', n_jobs=-1)\n",
    "\n",
    "# Fit the model\n",
    "grid_search.fit(X_train, y_train)\n",
    "\n",
    "# Print the best parameters and the best score\n",
    "print(\"Best parameters:\", grid_search.best_params_)\n",
    "print(\"Best cross-validation score:\", grid_search.best_score_)\n",
    "\n"
   ]
  },
  {
   "cell_type": "code",
   "execution_count": 87,
   "metadata": {},
   "outputs": [
    {
     "name": "stderr",
     "output_type": "stream",
     "text": [
      "[Parallel(n_jobs=16)]: Using backend ThreadingBackend with 16 concurrent workers.\n",
      "[Parallel(n_jobs=16)]: Done  18 tasks      | elapsed:    0.0s\n",
      "[Parallel(n_jobs=16)]: Done 150 out of 150 | elapsed:    0.0s finished\n"
     ]
    },
    {
     "name": "stdout",
     "output_type": "stream",
     "text": [
      "              precision    recall  f1-score   support\n",
      "\n",
      "        fail       0.72      0.79      0.75     12570\n",
      "     success       0.81      0.75      0.78     15329\n",
      "\n",
      "    accuracy                           0.77     27899\n",
      "   macro avg       0.77      0.77      0.77     27899\n",
      "weighted avg       0.77      0.77      0.77     27899\n",
      "\n"
     ]
    }
   ],
   "source": [
    "# Make predictions with the best model\n",
    "y_pred = grid_search.predict(X_test)\n",
    "\n",
    "# Print classification report\n",
    "print(classification_report(y_test, y_pred))"
   ]
  },
  {
   "cell_type": "code",
   "execution_count": 88,
   "metadata": {},
   "outputs": [
    {
     "name": "stdout",
     "output_type": "stream",
     "text": [
      "goal_usd_category_50k_plus: 0.05299544864705209\n",
      "goal_usd_category_1k-10k: 0.03568470715708515\n",
      "main_category_Food: 0.03525555099366868\n",
      "sub_category_Documentary: 0.033817983776288314\n",
      "sub_category_Apparel: 0.02970718688693122\n",
      "duration_in_months_2: 0.029249522335045568\n",
      "sub_category_Narrative Film: 0.027367485711013325\n",
      "sub_category_Product Design: 0.02651519607312934\n",
      "main_category_Comics: 0.02648676751909887\n",
      "duration_in_months_1: 0.02564515587270092\n",
      "sub_category_Nonfiction: 0.02374849574398016\n",
      "sub_category_Video Games: 0.02318859218624527\n",
      "sub_category_Country & Folk: 0.022696278166857594\n",
      "sub_category_Shorts: 0.02199182336840339\n",
      "sub_category_Children's Books: 0.021932842258149635\n",
      "sub_category_Rock: 0.021751622968531534\n",
      "sub_category_Web: 0.021244561655453985\n",
      "sub_category_Indie Rock: 0.021147796161915294\n",
      "main_category_Crafts: 0.020582111200543138\n",
      "sub_category_Playing Cards: 0.020066031859875412\n",
      "sub_category_Mobile Games: 0.01810061577538836\n",
      "sub_category_Fiction: 0.017040380434965918\n",
      "sub_category_Tabletop Games: 0.01413758872100041\n",
      "goal_usd_category_10k-50k: 0.013994699921887479\n",
      "main_category_Games: 0.01236215607217173\n",
      "sub_category_Illustration: 0.011971161533947249\n",
      "main_category_Music: 0.011678429248119201\n",
      "sub_category_Gadgets: 0.011504836819660252\n",
      "sub_category_Hardware: 0.011165001640242901\n",
      "main_category_Photography: 0.0111556504736653\n",
      "sub_category_Art Books: 0.010924268610683763\n",
      "sub_category_Webseries: 0.010627134322428605\n",
      "sub_category_Accessories: 0.010520472021327484\n",
      "sub_category_Graphic Novels: 0.010418386422016623\n",
      "main_category_Journalism: 0.010134574734700212\n",
      "sub_category_Software: 0.008966521962727209\n",
      "main_category_Publishing: 0.008894146955379724\n",
      "sub_category_Hip-Hop: 0.008876614761708252\n",
      "sub_category_Classical Music: 0.007899852867524815\n",
      "country_code_US: 0.007678209668317461\n",
      "sub_category_Food Trucks: 0.007208536921784765\n",
      "main_category_Technology: 0.007192177633778943\n",
      "sub_category_Public Art: 0.006614183383938269\n",
      "sub_category_Pop: 0.006236323156849771\n",
      "main_category_Fashion: 0.006129557538760155\n",
      "sub_category_Comic Books: 0.005955950164171233\n",
      "sub_category_Academic: 0.00532323268828245\n",
      "sub_category_Live Games: 0.005222993649081845\n",
      "sub_category_Electronic Music: 0.005193300502949542\n",
      "sub_category_Young Adult: 0.005116707885261883\n",
      "main_category_Film & Video: 0.004655098226587453\n",
      "sub_category_Television: 0.0045576151283894485\n",
      "sub_category_Digital Art: 0.0044967137540725035\n",
      "sub_category_Ready-to-wear: 0.004343414204233189\n",
      "sub_category_Apps: 0.004287840608511967\n",
      "country_code_GB: 0.004280378954011613\n",
      "main_category_Design: 0.0037659217784985406\n",
      "duration_in_months_0: 0.003647288437466777\n",
      "sub_category_Poetry: 0.003628377644799028\n",
      "country_code_IT: 0.0035805814105164145\n",
      "sub_category_DIY: 0.0034943654802770154\n",
      "sub_category_Action: 0.0033837548447448224\n",
      "main_category_Theater: 0.00326730825203378\n",
      "sub_category_Jewelry: 0.0032390149815031727\n",
      "main_category_Art: 0.0027989149726249684\n",
      "country_code_CA: 0.0027665480576090974\n",
      "sub_category_R&B: 0.002428527456851029\n",
      "country_code_HK: 0.0024269814676440575\n",
      "sub_category_Woodworking: 0.0023896814371543395\n",
      "country_code_AU: 0.0022503479450365522\n",
      "sub_category_Photobooks: 0.0022398387399502305\n",
      "sub_category_People: 0.0021751883889383587\n",
      "sub_category_Events: 0.0019203407082794444\n",
      "sub_category_Anthologies: 0.0019095563529734109\n",
      "sub_category_Jazz: 0.0018394318053880612\n",
      "sub_category_Animation: 0.0018278916185102013\n",
      "sub_category_Places: 0.0018020901380657677\n",
      "sub_category_Graphic Design: 0.0017612448382225306\n",
      "sub_category_Comedy: 0.0017602480578602668\n",
      "sub_category_World Music: 0.0017491219818206072\n",
      "country_code_FR: 0.0016610389963167907\n",
      "sub_category_Periodicals: 0.001637059151378741\n",
      "sub_category_Drinks: 0.0016205331098244095\n",
      "sub_category_Sound: 0.0015919133125995722\n",
      "country_code_DE: 0.0015660786563924433\n",
      "sub_category_Horror: 0.001535915490364771\n",
      "sub_category_Webcomics: 0.00149942495783932\n",
      "sub_category_Faith: 0.0014931704602899568\n",
      "sub_category_Performances: 0.0014721250865707422\n",
      "sub_category_Childrenswear: 0.0014320247358317894\n",
      "sub_category_Radio & Podcasts: 0.0014264267627572544\n",
      "sub_category_Wearables: 0.001403796751201618\n",
      "sub_category_Footwear: 0.0014006804057265217\n",
      "sub_category_Interactive Design: 0.0013458941813229374\n",
      "sub_category_Experimental: 0.001344623734260623\n",
      "sub_category_Drama: 0.0013422483536160907\n",
      "sub_category_Sculpture: 0.001340645182651861\n",
      "country_code_ES: 0.0013218070568707886\n",
      "sub_category_Camera Equipment: 0.0012967490685498993\n",
      "country_code_NL: 0.0012386821500516613\n",
      "sub_category_Conceptual Art: 0.0012356585386857411\n",
      "sub_category_Thrillers: 0.0012224395929743342\n",
      "sub_category_Architecture: 0.0012091509528860866\n",
      "sub_category_Gaming Hardware: 0.0011544529796600385\n",
      "sub_category_Candles: 0.0011109436268143015\n",
      "country_code_MX: 0.0010957673576667017\n",
      "sub_category_Music Videos: 0.0010945474783683495\n",
      "sub_category_Painting: 0.0010883068694823098\n",
      "sub_category_Couture: 0.0010793806268208027\n",
      "sub_category_3D Printing: 0.001052779960961784\n",
      "sub_category_Nature: 0.00103548566707415\n",
      "main_category_Dance: 0.0010131944849184143\n",
      "sub_category_Flight: 0.0010037516759393939\n",
      "country_code_SE: 0.0009972188910877592\n",
      "sub_category_Farms: 0.0009805750476223948\n",
      "sub_category_Knitting: 0.0009657312952901813\n",
      "country_code_JP: 0.0008702908251875983\n",
      "sub_category_Family: 0.0008662640839240556\n",
      "sub_category_Plays: 0.0008662538355084224\n",
      "sub_category_Metal: 0.0008523775558900613\n",
      "sub_category_Puzzles: 0.0008231492280202743\n",
      "sub_category_Mixed Media: 0.0007986813042400317\n",
      "sub_category_DIY Electronics: 0.0007743935190040242\n",
      "sub_category_Video: 0.0007613363429876796\n",
      "sub_category_Performance Art: 0.0007051150741978602\n",
      "sub_category_Restaurants: 0.000685606766037375\n",
      "sub_category_Farmer's Markets: 0.0006629750116292908\n",
      "sub_category_Spaces: 0.0006608183426466835\n",
      "is_social_Yes: 0.0006491683440449303\n",
      "is_social_No: 0.0006460256269437258\n",
      "country_code_NZ: 0.0006450226358267207\n",
      "sub_category_Print: 0.0006430755325196732\n",
      "is_environmental_Yes: 0.0006350306523799671\n",
      "sub_category_Robots: 0.0006096233384001125\n",
      "sub_category_Festivals: 0.0005996300131444361\n",
      "country_code_SG: 0.0005996087462859092\n",
      "sub_category_Calendars: 0.0005944543105938538\n",
      "sub_category_Translations: 0.0005900270782612418\n",
      "is_environmental_No: 0.0005846436172762401\n",
      "country_code_IE: 0.0005737549957726329\n",
      "sub_category_Pottery: 0.0005639866399978496\n",
      "country_code_BE: 0.0005624439063664345\n",
      "country_code_DK: 0.0005531055442761209\n",
      "sub_category_Installations: 0.0005380259043548375\n",
      "sub_category_Fabrication Tools: 0.0005324088526446862\n",
      "country_code_CH: 0.0005289728227393227\n",
      "sub_category_Science Fiction: 0.0005273586268730511\n",
      "sub_category_Zines: 0.0005087218447342168\n",
      "sub_category_Fantasy: 0.0005070125720772971\n",
      "sub_category_Small Batch: 0.0005046014585080115\n",
      "sub_category_Fine Art: 0.00048320260398709706\n",
      "sub_category_Blues: 0.0004756452158917367\n",
      "duration_in_months_3: 0.00047245773301495117\n",
      "sub_category_Movie Theaters: 0.00046934799703672353\n",
      "country_code_AT: 0.0004499675741686033\n",
      "sub_category_Vegan: 0.000448134847559128\n",
      "sub_category_Audio: 0.00043965077047801356\n",
      "sub_category_Musical: 0.0004298465577520123\n",
      "sub_category_Literary Journals: 0.0004230957390733767\n",
      "sub_category_Workshops: 0.0004188709775061894\n",
      "country_code_NO: 0.00041827516300867916\n",
      "sub_category_Toys: 0.0004178161009023584\n",
      "sub_category_Space Exploration: 0.0004047295338950782\n",
      "sub_category_Ceramics: 0.00040366000291611724\n",
      "sub_category_Kids: 0.000384132055252505\n",
      "sub_category_Makerspaces: 0.0003686211698392226\n",
      "sub_category_Romance: 0.0003639225986118418\n",
      "sub_category_Pet Fashion: 0.00036316686529264233\n",
      "sub_category_Civic Design: 0.0003511432157515898\n",
      "sub_category_Typography: 0.0003498787609667742\n",
      "sub_category_Cookbooks: 0.0003341435039474483\n",
      "sub_category_Textiles: 0.00033083249496426525\n",
      "sub_category_Residencies: 0.0003301164807954572\n",
      "sub_category_Community Gardens: 0.0003285621457167616\n",
      "sub_category_Literary Spaces: 0.0003247531734269313\n",
      "sub_category_Punk: 0.00031210942106810777\n",
      "sub_category_Immersive: 0.000302095178159374\n",
      "sub_category_Latin: 0.00029192268517105\n",
      "sub_category_Animals: 0.00028885247962543993\n",
      "sub_category_Letterpress: 0.0002702116835090428\n",
      "sub_category_Video Art: 0.00025714437207669715\n",
      "sub_category_Printing: 0.0002409650019357686\n",
      "sub_category_Stationery: 0.00022945308198901403\n",
      "sub_category_Social Practice: 0.00020677652193681995\n",
      "sub_category_Weaving: 0.00019542313610555802\n",
      "sub_category_Photo: 0.00018626874910586833\n",
      "sub_category_Chiptune: 0.00017846994200913465\n",
      "sub_category_Crochet: 0.00015189533258279364\n",
      "sub_category_Bacon: 0.00013436254224540893\n",
      "sub_category_Embroidery: 0.00012045108074105374\n",
      "sub_category_Glass: 0.00011562328743282472\n",
      "sub_category_Quilts: 7.530007891307149e-05\n",
      "sub_category_Taxidermy: 4.080949819003734e-05\n",
      "country_code_PL: 2.595567546616511e-05\n",
      "country_code_GR: 2.4832990781891425e-05\n",
      "country_code_SI: 2.3034823344410665e-05\n",
      "country_code_LU: 1.742684462447274e-05\n",
      "duration_in_months_4: 0.0\n"
     ]
    }
   ],
   "source": [
    "# Access the fitted RandomForestClassifier\n",
    "fitted_rfc = grid_search.best_estimator_['classifier']\n",
    "\n",
    "# Get feature importances\n",
    "importances = fitted_rfc.feature_importances_\n",
    "\n",
    "# Get the feature names after one-hot encoding\n",
    "transformed_feature_names = grid_search.best_estimator_.named_steps['preprocessor'].named_transformers_['cat'].get_feature_names_out(categorical_features)\n",
    "\n",
    "# For numerical features, their names remain the same\n",
    "#numerical_features = ['duration_in_months']\n",
    "numerical_features=[]\n",
    "# Combine all feature names\n",
    "all_feature_names = np.concatenate([transformed_feature_names, numerical_features])\n",
    "\n",
    "# Match feature names with their importances\n",
    "feature_importances = zip(all_feature_names, importances)\n",
    "\n",
    "# Sort the features by importance\n",
    "sorted_feature_importances = sorted(feature_importances, key=lambda x: x[1], reverse=True)\n",
    "\n",
    "# Print the sorted feature importances\n",
    "for feature, importance in sorted_feature_importances:\n",
    "    print(f\"{feature}: {importance}\")"
   ]
  },
  {
   "cell_type": "code",
   "execution_count": 90,
   "metadata": {},
   "outputs": [
    {
     "name": "stdout",
     "output_type": "stream",
     "text": [
      "subcategory: 0.634267958411183\n",
      "maincategory: 0.1653715600845491\n",
      "goalusd: 0.10267485572602472\n",
      "durationin: 0.059014424378228215\n",
      "countrycode: 0.03615633315937031\n",
      "issocial: 0.0012951939709886563\n",
      "isenvironmental: 0.001219674269656207\n"
     ]
    }
   ],
   "source": [
    "# Given feature importances from the model output\n",
    "feature_importances = {feature: importance for feature, importance in sorted_feature_importances}\n",
    "\n",
    "# Initialize a dictionary to hold the aggregated importances\n",
    "aggregated_importances = {}\n",
    "\n",
    "# Aggregate importances for categorical features\n",
    "for feature, importance in feature_importances.items():\n",
    "    # Split the feature name to identify the original feature\n",
    "    original_feature = ''.join(feature.split(\"_\")[:2])\n",
    "    if original_feature in ['duration_in', 'goal_usd']:  # Assuming these are prefixes for numerical features\n",
    "        # Directly use the feature name for numerical features\n",
    "        aggregated_importances[feature] = importance\n",
    "    else:\n",
    "        # Sum the importances for categorical features\n",
    "        if original_feature in aggregated_importances:\n",
    "            aggregated_importances[original_feature] += importance\n",
    "        else:\n",
    "            aggregated_importances[original_feature] = importance\n",
    "\n",
    "# Sort the aggregated importances\n",
    "sorted_aggregated_importances = sorted(aggregated_importances.items(), key=lambda x: x[1], reverse=True)\n",
    "\n",
    "# Display the sorted aggregated importances\n",
    "for feature, importance in sorted_aggregated_importances:\n",
    "    print(f\"{feature}: {importance}\")"
   ]
  },
  {
   "cell_type": "code",
   "execution_count": 48,
   "metadata": {},
   "outputs": [
    {
     "name": "stdout",
     "output_type": "stream",
     "text": [
      "True\n"
     ]
    },
    {
     "ename": "IndexError",
     "evalue": "index 189 is out of bounds for axis 0 with size 189",
     "output_type": "error",
     "traceback": [
      "\u001b[1;31m---------------------------------------------------------------------------\u001b[0m",
      "\u001b[1;31mIndexError\u001b[0m                                Traceback (most recent call last)",
      "Cell \u001b[1;32mIn[48], line 7\u001b[0m\n\u001b[0;32m      5\u001b[0m duration_index \u001b[38;5;241m=\u001b[39m np\u001b[38;5;241m.\u001b[39mwhere(all_feature_names \u001b[38;5;241m==\u001b[39m \u001b[38;5;124m'\u001b[39m\u001b[38;5;124mduration_in_months\u001b[39m\u001b[38;5;124m'\u001b[39m)[\u001b[38;5;241m0\u001b[39m]\n\u001b[0;32m      6\u001b[0m \u001b[38;5;28;01mif\u001b[39;00m duration_index\u001b[38;5;241m.\u001b[39msize \u001b[38;5;241m>\u001b[39m \u001b[38;5;241m0\u001b[39m:\n\u001b[1;32m----> 7\u001b[0m     \u001b[38;5;28mprint\u001b[39m(\u001b[38;5;124mf\u001b[39m\u001b[38;5;124m\"\u001b[39m\u001b[38;5;124mImportance of \u001b[39m\u001b[38;5;124m'\u001b[39m\u001b[38;5;124mduration_in_months\u001b[39m\u001b[38;5;124m'\u001b[39m\u001b[38;5;124m: \u001b[39m\u001b[38;5;132;01m{\u001b[39;00m\u001b[43mimportances\u001b[49m\u001b[43m[\u001b[49m\u001b[43mduration_index\u001b[49m\u001b[43m[\u001b[49m\u001b[38;5;241;43m0\u001b[39;49m\u001b[43m]\u001b[49m\u001b[43m]\u001b[49m\u001b[38;5;132;01m}\u001b[39;00m\u001b[38;5;124m\"\u001b[39m)\n\u001b[0;32m      8\u001b[0m \u001b[38;5;28;01melse\u001b[39;00m:\n\u001b[0;32m      9\u001b[0m     \u001b[38;5;28mprint\u001b[39m(\u001b[38;5;124m\"\u001b[39m\u001b[38;5;124m'\u001b[39m\u001b[38;5;124mduration_in_months\u001b[39m\u001b[38;5;124m'\u001b[39m\u001b[38;5;124m not found in the feature names.\u001b[39m\u001b[38;5;124m\"\u001b[39m)\n",
      "\u001b[1;31mIndexError\u001b[0m: index 189 is out of bounds for axis 0 with size 189"
     ]
    }
   ],
   "source": [
    "# Ensure 'duration_in_months' is in the list of all feature names\n",
    "print('duration_in_months' in all_feature_names)\n",
    "\n",
    "# Directly check the importance of 'duration_in_months'\n",
    "duration_index = np.where(all_feature_names == 'duration_in_months')[0]\n",
    "if duration_index.size > 0:\n",
    "    print(f\"Importance of 'duration_in_months': {importances[duration_index[0]]}\")\n",
    "else:\n",
    "    print(\"'duration_in_months' not found in the feature names.\")"
   ]
  },
  {
   "cell_type": "code",
   "execution_count": 53,
   "metadata": {},
   "outputs": [],
   "source": [
    "x=df_envt[['main_category','sub_category','goal_usd_category','duration_in_months','is_success']].copy()\n",
    "x['is_success'] = np.where(x['is_success']=='fail', 'fail', 'success')"
   ]
  },
  {
   "cell_type": "code",
   "execution_count": 54,
   "metadata": {},
   "outputs": [
    {
     "name": "stdout",
     "output_type": "stream",
     "text": [
      "Accuracy: 0.7238095238095238\n",
      "Classification Report:\n",
      "               precision    recall  f1-score   support\n",
      "\n",
      "           0       0.73      0.91      0.81       134\n",
      "           1       0.71      0.39      0.51        76\n",
      "\n",
      "    accuracy                           0.72       210\n",
      "   macro avg       0.72      0.65      0.66       210\n",
      "weighted avg       0.72      0.72      0.70       210\n",
      "\n"
     ]
    }
   ],
   "source": [
    "\n",
    "# Step 1: Encode categorical variables\n",
    "categorical_features = ['main_category', 'sub_category','goal_usd_category', 'duration_in_months']\n",
    "\n",
    "# Step 2: Split data into training and testing sets\n",
    "#X = pd.get_dummies(x[categorical_features])\n",
    "\n",
    "label_encoder = LabelEncoder()\n",
    "X = x[categorical_features]  # Features\n",
    "\n",
    "\n",
    "for col in categorical_features:\n",
    "    X.loc[:,col] = label_encoder.fit_transform(X[col])\n",
    "# Assuming 'df_envt' is your DataFrame and it includes the 'is_success' column\n",
    "\n",
    "y = x['is_success']  # Target variable\n",
    "\n",
    "# Encode the target variable\n",
    "label_encoder = LabelEncoder()\n",
    "y_encoded = label_encoder.fit_transform(y)\n",
    "\n",
    "# Split the data into training and testing sets\n",
    "X_train, X_test, y_train, y_test = train_test_split(X, y_encoded, test_size=0.2, random_state=42)\n",
    "\n",
    "# Initialize and train the Random Forest model\n",
    "random_forest = RandomForestClassifier(n_estimators=100, random_state=42)\n",
    "random_forest.fit(X_train, y_train)\n",
    "\n",
    "# Predict on the testing set\n",
    "y_pred = random_forest.predict(X_test)\n",
    "\n",
    "# Evaluate the model\n",
    "print(\"Accuracy:\", accuracy_score(y_test, y_pred))\n",
    "print(\"Classification Report:\\n\", classification_report(y_test, y_pred))"
   ]
  },
  {
   "cell_type": "code",
   "execution_count": 56,
   "metadata": {},
   "outputs": [
    {
     "name": "stdout",
     "output_type": "stream",
     "text": [
      "              feature  importance\n",
      "1        sub_category    0.575083\n",
      "0       main_category    0.227708\n",
      "2   goal_usd_category    0.124279\n",
      "3  duration_in_months    0.072930\n"
     ]
    }
   ],
   "source": [
    "# Assuming 'random_forest' is your trained RandomForestClassifier instance\n",
    "# and 'X_train' is the DataFrame used for training, with column names\n",
    "\n",
    "# Get feature importances\n",
    "importances = random_forest.feature_importances_\n",
    "\n",
    "# Convert the importances into a DataFrame\n",
    "feature_importances = pd.DataFrame({'feature': X_train.columns, 'importance': importances})\n",
    "\n",
    "# Sort the DataFrame to show the most important features at the top\n",
    "feature_importances = feature_importances.sort_values(by='importance', ascending=False)\n",
    "\n",
    "# Display the feature importances\n",
    "print(feature_importances)"
   ]
  },
  {
   "cell_type": "markdown",
   "metadata": {},
   "source": [
    "## RF on df"
   ]
  },
  {
   "cell_type": "code",
   "execution_count": 398,
   "metadata": {},
   "outputs": [
    {
     "data": {
      "text/plain": [
       "Index(['campaign_name', 'blurb', 'main_category', 'sub_category',\n",
       "       'is_environmental', 'is_social', 'country', 'duration_in_months',\n",
       "       'goal_usd_category', 'is_success'],\n",
       "      dtype='object')"
      ]
     },
     "execution_count": 398,
     "metadata": {},
     "output_type": "execute_result"
    }
   ],
   "source": [
    "df.columns"
   ]
  },
  {
   "cell_type": "code",
   "execution_count": 399,
   "metadata": {},
   "outputs": [],
   "source": [
    "x=df_envt[['main_category',\n",
    "       'is_environmental', 'is_social', 'country', 'duration_in_months',\n",
    "       'goal_usd_category', 'is_success']].copy()\n",
    "x['is_success'] = np.where(x['is_success']=='fail', 'fail', 'success')"
   ]
  },
  {
   "cell_type": "code",
   "execution_count": 400,
   "metadata": {},
   "outputs": [
    {
     "name": "stdout",
     "output_type": "stream",
     "text": [
      "Accuracy: 0.7095238095238096\n",
      "Classification Report:\n",
      "               precision    recall  f1-score   support\n",
      "\n",
      "           0       0.72      0.90      0.80       134\n",
      "           1       0.67      0.38      0.49        76\n",
      "\n",
      "    accuracy                           0.71       210\n",
      "   macro avg       0.70      0.64      0.64       210\n",
      "weighted avg       0.70      0.71      0.69       210\n",
      "\n"
     ]
    }
   ],
   "source": [
    "\n",
    "# Step 1: Encode categorical variables\n",
    "categorical_features = ['main_category',\n",
    "       'is_environmental', 'is_social', 'country', 'duration_in_months',\n",
    "       'goal_usd_category',]\n",
    "\n",
    "# Step 2: Split data into training and testing sets\n",
    "#X = pd.get_dummies(x[categorical_features])\n",
    "\n",
    "label_encoder = LabelEncoder()\n",
    "X = x[categorical_features]  # Features\n",
    "\n",
    "\n",
    "for col in categorical_features:\n",
    "    X.loc[:,col] = label_encoder.fit_transform(X[col])\n",
    "# Assuming 'df_envt' is your DataFrame and it includes the 'is_success' column\n",
    "\n",
    "y = x['is_success']  # Target variable\n",
    "\n",
    "# Encode the target variable\n",
    "label_encoder = LabelEncoder()\n",
    "y_encoded = label_encoder.fit_transform(y)\n",
    "\n",
    "# Split the data into training and testing sets\n",
    "X_train, X_test, y_train, y_test = train_test_split(X, y_encoded, test_size=0.2, random_state=42)\n",
    "\n",
    "# Initialize and train the Random Forest model\n",
    "random_forest = RandomForestClassifier(n_estimators=100, random_state=42)\n",
    "random_forest.fit(X_train, y_train)\n",
    "\n",
    "# Predict on the testing set\n",
    "y_pred = random_forest.predict(X_test)\n",
    "\n",
    "# Evaluate the model\n",
    "print(\"Accuracy:\", accuracy_score(y_test, y_pred))\n",
    "print(\"Classification Report:\\n\", classification_report(y_test, y_pred))"
   ]
  },
  {
   "cell_type": "code",
   "execution_count": 401,
   "metadata": {},
   "outputs": [
    {
     "name": "stdout",
     "output_type": "stream",
     "text": [
      "              feature  importance\n",
      "0       main_category    0.443573\n",
      "3             country    0.254730\n",
      "5   goal_usd_category    0.183919\n",
      "4  duration_in_months    0.092657\n",
      "2           is_social    0.025121\n",
      "1    is_environmental    0.000000\n"
     ]
    }
   ],
   "source": [
    "# Assuming 'random_forest' is your trained RandomForestClassifier instance\n",
    "# and 'X_train' is the DataFrame used for training, with column names\n",
    "\n",
    "# Get feature importances\n",
    "importances = random_forest.feature_importances_\n",
    "\n",
    "# Convert the importances into a DataFrame\n",
    "feature_importances = pd.DataFrame({'feature': X_train.columns, 'importance': importances})\n",
    "\n",
    "# Sort the DataFrame to show the most important features at the top\n",
    "feature_importances = feature_importances.sort_values(by='importance', ascending=False)\n",
    "\n",
    "# Display the feature importances\n",
    "print(feature_importances)"
   ]
  },
  {
   "cell_type": "markdown",
   "metadata": {},
   "source": [
    "## RFE"
   ]
  },
  {
   "cell_type": "code",
   "execution_count": 402,
   "metadata": {},
   "outputs": [
    {
     "name": "stdout",
     "output_type": "stream",
     "text": [
      "              Feature  Importance\n",
      "0       main_category           1\n",
      "3             country           1\n",
      "5   goal_usd_category           1\n",
      "4  duration_in_months           2\n",
      "2           is_social           3\n",
      "1    is_environmental           4\n"
     ]
    }
   ],
   "source": [
    "\n",
    "# Assuming 'X_train' is your features and 'y_train' is your target variable\n",
    "\n",
    "# Step 2: Instantiate the model\n",
    "random_forest = RandomForestClassifier()\n",
    "\n",
    "# Step 3: Instantiate RFE with the model and the desired number of features\n",
    "rfe = RFE(estimator=random_forest, n_features_to_select=3)  # Adjust n_features_to_select as needed\n",
    "\n",
    "# Step 4: Fit RFE\n",
    "rfe.fit(X_train, y_train)\n",
    "\n",
    "# Optional: Transform the dataset to reduce it to the selected features\n",
    "X_train_transformed = rfe.transform(X_train)\n",
    "\n",
    "# Step 6: Inspect selected features and their ranking\n",
    "selected_features = pd.DataFrame({'Feature': X_train.columns, \n",
    "                                   'Importance': rfe.ranking_}).sort_values(by='Importance')\n",
    "\n",
    "# Display the selected features\n",
    "print(selected_features)"
   ]
  },
  {
   "cell_type": "markdown",
   "metadata": {},
   "source": [
    "## XGB"
   ]
  },
  {
   "cell_type": "code",
   "execution_count": 407,
   "metadata": {},
   "outputs": [],
   "source": [
    "x=df_envt[['main_category',\n",
    "       'is_environmental', 'is_social', 'country', 'duration_in_months',\n",
    "       'goal_usd_category', 'is_success']].copy()\n",
    "x['is_success'] = np.where(x['is_success']=='fail', 'fail', 'success')"
   ]
  },
  {
   "cell_type": "code",
   "execution_count": 405,
   "metadata": {},
   "outputs": [
    {
     "ename": "TypeError",
     "evalue": "'<' not supported between instances of 'str' and 'float'",
     "output_type": "error",
     "traceback": [
      "\u001b[1;31m---------------------------------------------------------------------------\u001b[0m",
      "\u001b[1;31mTypeError\u001b[0m                                 Traceback (most recent call last)",
      "Cell \u001b[1;32mIn[405], line 23\u001b[0m\n\u001b[0;32m     21\u001b[0m \u001b[38;5;66;03m# Train an XGBoost Model\u001b[39;00m\n\u001b[0;32m     22\u001b[0m model \u001b[38;5;241m=\u001b[39m xgb\u001b[38;5;241m.\u001b[39mXGBClassifier()\n\u001b[1;32m---> 23\u001b[0m \u001b[43mmodel\u001b[49m\u001b[38;5;241;43m.\u001b[39;49m\u001b[43mfit\u001b[49m\u001b[43m(\u001b[49m\u001b[43mX_train\u001b[49m\u001b[43m,\u001b[49m\u001b[43m \u001b[49m\u001b[43my_train\u001b[49m\u001b[43m)\u001b[49m\n\u001b[0;32m     25\u001b[0m \u001b[38;5;66;03m# Visualize Feature Importance\u001b[39;00m\n\u001b[0;32m     26\u001b[0m xgb\u001b[38;5;241m.\u001b[39mplot_importance(model)\n",
      "File \u001b[1;32mc:\\Users\\Ronin\\miniforge3\\envs\\dl4cv\\Lib\\site-packages\\xgboost\\core.py:726\u001b[0m, in \u001b[0;36mrequire_keyword_args.<locals>.throw_if.<locals>.inner_f\u001b[1;34m(*args, **kwargs)\u001b[0m\n\u001b[0;32m    724\u001b[0m \u001b[38;5;28;01mfor\u001b[39;00m k, arg \u001b[38;5;129;01min\u001b[39;00m \u001b[38;5;28mzip\u001b[39m(sig\u001b[38;5;241m.\u001b[39mparameters, args):\n\u001b[0;32m    725\u001b[0m     kwargs[k] \u001b[38;5;241m=\u001b[39m arg\n\u001b[1;32m--> 726\u001b[0m \u001b[38;5;28;01mreturn\u001b[39;00m \u001b[43mfunc\u001b[49m\u001b[43m(\u001b[49m\u001b[38;5;241;43m*\u001b[39;49m\u001b[38;5;241;43m*\u001b[39;49m\u001b[43mkwargs\u001b[49m\u001b[43m)\u001b[49m\n",
      "File \u001b[1;32mc:\\Users\\Ronin\\miniforge3\\envs\\dl4cv\\Lib\\site-packages\\xgboost\\sklearn.py:1484\u001b[0m, in \u001b[0;36mXGBClassifier.fit\u001b[1;34m(self, X, y, sample_weight, base_margin, eval_set, verbose, xgb_model, sample_weight_eval_set, base_margin_eval_set, feature_weights)\u001b[0m\n\u001b[0;32m   1482\u001b[0m     expected_classes \u001b[38;5;241m=\u001b[39m cp\u001b[38;5;241m.\u001b[39marray(\u001b[38;5;28mself\u001b[39m\u001b[38;5;241m.\u001b[39mclasses_)\n\u001b[0;32m   1483\u001b[0m \u001b[38;5;28;01melse\u001b[39;00m:\n\u001b[1;32m-> 1484\u001b[0m     classes \u001b[38;5;241m=\u001b[39m \u001b[43mnp\u001b[49m\u001b[38;5;241;43m.\u001b[39;49m\u001b[43munique\u001b[49m\u001b[43m(\u001b[49m\u001b[43mnp\u001b[49m\u001b[38;5;241;43m.\u001b[39;49m\u001b[43masarray\u001b[49m\u001b[43m(\u001b[49m\u001b[43my\u001b[49m\u001b[43m)\u001b[49m\u001b[43m)\u001b[49m\n\u001b[0;32m   1485\u001b[0m     \u001b[38;5;28mself\u001b[39m\u001b[38;5;241m.\u001b[39mn_classes_ \u001b[38;5;241m=\u001b[39m \u001b[38;5;28mlen\u001b[39m(classes)\n\u001b[0;32m   1486\u001b[0m     expected_classes \u001b[38;5;241m=\u001b[39m \u001b[38;5;28mself\u001b[39m\u001b[38;5;241m.\u001b[39mclasses_\n",
      "File \u001b[1;32mc:\\Users\\Ronin\\miniforge3\\envs\\dl4cv\\Lib\\site-packages\\numpy\\lib\\arraysetops.py:274\u001b[0m, in \u001b[0;36munique\u001b[1;34m(ar, return_index, return_inverse, return_counts, axis, equal_nan)\u001b[0m\n\u001b[0;32m    272\u001b[0m ar \u001b[38;5;241m=\u001b[39m np\u001b[38;5;241m.\u001b[39masanyarray(ar)\n\u001b[0;32m    273\u001b[0m \u001b[38;5;28;01mif\u001b[39;00m axis \u001b[38;5;129;01mis\u001b[39;00m \u001b[38;5;28;01mNone\u001b[39;00m:\n\u001b[1;32m--> 274\u001b[0m     ret \u001b[38;5;241m=\u001b[39m \u001b[43m_unique1d\u001b[49m\u001b[43m(\u001b[49m\u001b[43mar\u001b[49m\u001b[43m,\u001b[49m\u001b[43m \u001b[49m\u001b[43mreturn_index\u001b[49m\u001b[43m,\u001b[49m\u001b[43m \u001b[49m\u001b[43mreturn_inverse\u001b[49m\u001b[43m,\u001b[49m\u001b[43m \u001b[49m\u001b[43mreturn_counts\u001b[49m\u001b[43m,\u001b[49m\u001b[43m \u001b[49m\n\u001b[0;32m    275\u001b[0m \u001b[43m                    \u001b[49m\u001b[43mequal_nan\u001b[49m\u001b[38;5;241;43m=\u001b[39;49m\u001b[43mequal_nan\u001b[49m\u001b[43m)\u001b[49m\n\u001b[0;32m    276\u001b[0m     \u001b[38;5;28;01mreturn\u001b[39;00m _unpack_tuple(ret)\n\u001b[0;32m    278\u001b[0m \u001b[38;5;66;03m# axis was specified and not None\u001b[39;00m\n",
      "File \u001b[1;32mc:\\Users\\Ronin\\miniforge3\\envs\\dl4cv\\Lib\\site-packages\\numpy\\lib\\arraysetops.py:336\u001b[0m, in \u001b[0;36m_unique1d\u001b[1;34m(ar, return_index, return_inverse, return_counts, equal_nan)\u001b[0m\n\u001b[0;32m    334\u001b[0m     aux \u001b[38;5;241m=\u001b[39m ar[perm]\n\u001b[0;32m    335\u001b[0m \u001b[38;5;28;01melse\u001b[39;00m:\n\u001b[1;32m--> 336\u001b[0m     \u001b[43mar\u001b[49m\u001b[38;5;241;43m.\u001b[39;49m\u001b[43msort\u001b[49m\u001b[43m(\u001b[49m\u001b[43m)\u001b[49m\n\u001b[0;32m    337\u001b[0m     aux \u001b[38;5;241m=\u001b[39m ar\n\u001b[0;32m    338\u001b[0m mask \u001b[38;5;241m=\u001b[39m np\u001b[38;5;241m.\u001b[39mempty(aux\u001b[38;5;241m.\u001b[39mshape, dtype\u001b[38;5;241m=\u001b[39mnp\u001b[38;5;241m.\u001b[39mbool_)\n",
      "\u001b[1;31mTypeError\u001b[0m: '<' not supported between instances of 'str' and 'float'"
     ]
    }
   ],
   "source": [
    "categorical_features = ['main_category',\n",
    "       'is_environmental', 'is_social', 'country', 'duration_in_months',\n",
    "       'goal_usd_category',]\n",
    "one_hot_encoder = OneHotEncoder()\n",
    "encoded_categorical = one_hot_encoder.fit_transform(x[categorical_features]).toarray()\n",
    "\n",
    "# Create a new DataFrame with encoded categorical features\n",
    "encoded_x = pd.DataFrame(encoded_categorical, columns=one_hot_encoder.get_feature_names_out(categorical_features))\n",
    "\n",
    "# Drop original categorical columns and concatenate encoded features\n",
    "x.drop(columns=categorical_features, inplace=True)\n",
    "x = pd.concat([x, encoded_x], axis=1)\n",
    "\n",
    "# Split your data into features (X) and target (y)\n",
    "X = x.drop('is_success', axis=1)\n",
    "y = x['is_success']\n",
    "\n",
    "# Split data into training and testing sets\n",
    "X_train, X_test, y_train, y_test = train_test_split(X, y, test_size=0.2, random_state=42)\n",
    "\n",
    "# Train an XGBoost Model\n",
    "model = xgb.XGBClassifier()\n",
    "model.fit(X_train, y_train)\n",
    "\n",
    "# Visualize Feature Importance\n",
    "xgb.plot_importance(model)\n",
    "plt.show()"
   ]
  },
  {
   "cell_type": "code",
   "execution_count": 156,
   "metadata": {},
   "outputs": [
    {
     "name": "stderr",
     "output_type": "stream",
     "text": [
      "[NbConvertApp] Converting notebook 03.DataAnalysis.ipynb to webpdf\n",
      "[NbConvertApp] Building PDF\n",
      "[NbConvertApp] PDF successfully created\n",
      "[NbConvertApp] Writing 126401 bytes to 03.DataAnalysis.pdf\n",
      "Task was destroyed but it is pending!\n",
      "task: <Task pending name='Task-2' coro=<Connection.run() running at C:\\Users\\Ronin\\miniforge3\\envs\\dl4cv\\Lib\\site-packages\\playwright\\_impl\\_connection.py:274> wait_for=<Future pending cb=[Task.task_wakeup()]>>\n",
      "Exception ignored in: <function _ProactorBasePipeTransport.__del__ at 0x000001D03BC95A80>\n",
      "Traceback (most recent call last):\n",
      "  File \"C:\\Users\\Ronin\\miniforge3\\envs\\dl4cv\\Lib\\asyncio\\proactor_events.py\", line 116, in __del__\n",
      "    _warn(f\"unclosed transport {self!r}\", ResourceWarning, source=self)\n",
      "                               ^^^^^^^^\n",
      "  File \"C:\\Users\\Ronin\\miniforge3\\envs\\dl4cv\\Lib\\asyncio\\proactor_events.py\", line 80, in __repr__\n",
      "    info.append(f'fd={self._sock.fileno()}')\n",
      "                      ^^^^^^^^^^^^^^^^^^^\n",
      "  File \"C:\\Users\\Ronin\\miniforge3\\envs\\dl4cv\\Lib\\asyncio\\windows_utils.py\", line 102, in fileno\n",
      "    raise ValueError(\"I/O operation on closed pipe\")\n",
      "ValueError: I/O operation on closed pipe\n",
      "Exception ignored in: <function BaseSubprocessTransport.__del__ at 0x000001D03BC94220>\n",
      "Traceback (most recent call last):\n",
      "  File \"C:\\Users\\Ronin\\miniforge3\\envs\\dl4cv\\Lib\\asyncio\\base_subprocess.py\", line 125, in __del__\n",
      "    _warn(f\"unclosed transport {self!r}\", ResourceWarning, source=self)\n",
      "                               ^^^^^^^^\n",
      "  File \"C:\\Users\\Ronin\\miniforge3\\envs\\dl4cv\\Lib\\asyncio\\base_subprocess.py\", line 70, in __repr__\n",
      "    info.append(f'stdin={stdin.pipe}')\n",
      "                        ^^^^^^^^^^^^\n",
      "  File \"C:\\Users\\Ronin\\miniforge3\\envs\\dl4cv\\Lib\\asyncio\\proactor_events.py\", line 80, in __repr__\n",
      "    info.append(f'fd={self._sock.fileno()}')\n",
      "                      ^^^^^^^^^^^^^^^^^^^\n",
      "  File \"C:\\Users\\Ronin\\miniforge3\\envs\\dl4cv\\Lib\\asyncio\\windows_utils.py\", line 102, in fileno\n",
      "    raise ValueError(\"I/O operation on closed pipe\")\n",
      "ValueError: I/O operation on closed pipe\n",
      "Exception ignored in: <function _ProactorBasePipeTransport.__del__ at 0x000001D03BC95A80>\n",
      "Traceback (most recent call last):\n",
      "  File \"C:\\Users\\Ronin\\miniforge3\\envs\\dl4cv\\Lib\\asyncio\\proactor_events.py\", line 116, in __del__\n",
      "    _warn(f\"unclosed transport {self!r}\", ResourceWarning, source=self)\n",
      "                               ^^^^^^^^\n",
      "  File \"C:\\Users\\Ronin\\miniforge3\\envs\\dl4cv\\Lib\\asyncio\\proactor_events.py\", line 80, in __repr__\n",
      "    info.append(f'fd={self._sock.fileno()}')\n",
      "                      ^^^^^^^^^^^^^^^^^^^\n",
      "  File \"C:\\Users\\Ronin\\miniforge3\\envs\\dl4cv\\Lib\\asyncio\\windows_utils.py\", line 102, in fileno\n",
      "    raise ValueError(\"I/O operation on closed pipe\")\n",
      "ValueError: I/O operation on closed pipe\n"
     ]
    }
   ],
   "source": [
    "!jupyter nbconvert --to webpdf 03.DataAnalysis.ipynb --no-input"
   ]
  }
 ],
 "metadata": {
  "kernelspec": {
   "display_name": "Python 3",
   "language": "python",
   "name": "python3"
  },
  "language_info": {
   "codemirror_mode": {
    "name": "ipython",
    "version": 3
   },
   "file_extension": ".py",
   "mimetype": "text/x-python",
   "name": "python",
   "nbconvert_exporter": "python",
   "pygments_lexer": "ipython3",
   "version": "3.12.2"
  }
 },
 "nbformat": 4,
 "nbformat_minor": 2
}
